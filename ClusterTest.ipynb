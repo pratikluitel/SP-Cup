{
 "cells": [
  {
   "cell_type": "code",
   "execution_count": 1,
   "metadata": {
    "collapsed": true
   },
   "outputs": [],
   "source": [
    "import matplotlib.pyplot as plt\n",
    "import random\n",
    "import pandas as pd\n",
    "import numpy as np\n",
    "from sklearn.decomposition import PCA"
   ]
  },
  {
   "cell_type": "code",
   "execution_count": 2,
   "metadata": {
    "collapsed": true
   },
   "outputs": [],
   "source": [
    "#load data\n",
    "DroneData = pd.read_csv('./DroneData/SP Cup 2020/IMU_camera Drone Synchronized training dataset_normal behabiour_no abnormalities/_slash_mavros_slash_imu_slash_data.csv')"
   ]
  },
  {
   "cell_type": "code",
   "execution_count": 3,
   "metadata": {
    "collapsed": true
   },
   "outputs": [],
   "source": [
    "def extract_normalization_params(DroneData, params = ['x','y','z','x.1','y.1','z.1','x.2','y.2','z.2']):\n",
    "    \"\"\"\n",
    "    Extracts only the normal distribution z scores \n",
    "    of from the data\n",
    "    input = Data, parameters\n",
    "    \"\"\"\n",
    "    imuParamsData = DroneData.loc[:, params]\n",
    "    normImuData = (imuParamsData - imuParamsData.mean())/imuParamsData.std()\n",
    "    return normImuData, imuParamsData.mean(), imuParamsData.std()\n",
    "\n",
    "def normalize_test_data(Data, mean, std, params = ['x','y','z','x.1','y.1','z.1','x.2','y.2','z.2']):\n",
    "    imuParamsData = Data.loc[:, params]\n",
    "    normImuData = (imuParamsData - mean)/std\n",
    "    return normImuData\n",
    "\n",
    "def find_theta_score(Data,dims=1):\n",
    "    \"\"\"\n",
    "    Converts n dimensions to a lower dimensional score,\n",
    "    for easier visualization\n",
    "    \"\"\"\n",
    "    pca = PCA(n_components=dims)\n",
    "    pca.fit(Data)\n",
    "    theta_score = pca.transform(Data)\n",
    "    return theta_score\n",
    "\n",
    "def plot_anomalies_in_1D(z_score, anomalyPrediction):\n",
    "    \"\"\"\n",
    "    plots anomalies (red) and 1D z score of the dataset\n",
    "    \"\"\"\n",
    "    plt.figure(figsize=(12,7))\n",
    "    for i in range(len(z_score)):\n",
    "        if anomalyPrediction[i] == True:\n",
    "            plt.scatter(i,z_score[i],c = 'r')\n",
    "    plt.plot(z_score)\n",
    "\n",
    "def plot_anomalies_in_2D(z2_score, anomalyPrediction):\n",
    "    \"\"\"\n",
    "    plots z1 and z2 as a scatter plot on x and y axes respectively,\n",
    "    with anomalies as red points and normal instances as blue\n",
    "    \"\"\"\n",
    "    plt.figure(2)\n",
    "    plt.figure(figsize=(12,7))\n",
    "    for i in range(len(z2_score.T)):\n",
    "        if anomalyPrediction[i]:\n",
    "            plt.scatter(z2_score[0][i],z2_score[1][i],c = 'r')\n",
    "        else:\n",
    "            plt.scatter(z2_score[0][i],z2_score[1][i],c = 'b')\n",
    "            \n",
    "def generate_metrics(anomalyPrediction,testDataLabel):\n",
    "    \"\"\"\n",
    "    generates accuracy and detection rate metrics, takes\n",
    "    into input the prediction and the label column of the data\n",
    "    lengths of the two vectors must match\n",
    "    \"\"\"\n",
    "    actual_value = testDataLabel == 4\n",
    "    #how many readings match\n",
    "    N_set = anomalyPrediction == actual_value\n",
    "    \n",
    "    accuracy = sum(N_set)/len(testDataLabel)\n",
    "    detection_rate = sum(anomalyPrediction)/sum(actual_value)\n",
    "    false_positives = sum(np.logical_and((np.invert(actual_value)), anomalyPrediction))/len(testDataLabel)\n",
    "    false_negatives = sum(np.logical_and(actual_value, np.invert(anomalyPrediction)))/len(testDataLabel)\n",
    "    print('accuracy = ', accuracy,',detection rate =', detection_rate,'\\nfalse positive rate = '\n",
    "          ,false_positives,',false negative rate =',false_negatives)\n"
   ]
  },
  {
   "cell_type": "code",
   "execution_count": 4,
   "metadata": {
    "collapsed": true
   },
   "outputs": [],
   "source": [
    "#fit mean and std for normalization\n",
    "\n",
    "normImuData, mean , std = extract_normalization_params(DroneData)\n",
    "trainData = normImuData"
   ]
  },
  {
   "cell_type": "code",
   "execution_count": 5,
   "metadata": {
    "collapsed": true
   },
   "outputs": [],
   "source": [
    "#import new test data here\n",
    "testData1 = normalize_test_data(pd.concat([pd.read_csv('DroneData/SP Cup 2020/03_Dataset with 5 normal experiments_17Jan2020/2020-01-17-11-32-12/_slash_mavros_slash_imu_slash_data.csv'),\n",
    "                                         pd.read_csv('DroneData/SP Cup 2020/03_Dataset with 5 normal experiments_17Jan2020/2020-01-17-11-32-49/_slash_mavros_slash_imu_slash_data.csv'),\n",
    "                                          pd.read_csv('DroneData/SP Cup 2020/03_Dataset with 5 normal experiments_17Jan2020/2020-01-17-11-33-26/_slash_mavros_slash_imu_slash_data.csv'),\n",
    "                                          pd.read_csv('DroneData/SP Cup 2020/03_Dataset with 5 normal experiments_17Jan2020/2020-01-17-11-34-08/_slash_mavros_slash_imu_slash_data.csv'),\n",
    "                                          pd.read_csv('DroneData/SP Cup 2020/03_Dataset with 5 normal experiments_17Jan2020/2020-01-17-11-34-43/_slash_mavros_slash_imu_slash_data.csv')]), mean, std)\n",
    "\n",
    "testData2 = normalize_test_data(pd.read_csv('DroneData/SP Cup 2020/04_Dataset with 5 abnormal experiments_17Jan2020/2020-01-17-11-37-25/_slash_mavros_slash_imu_slash_data.csv'), mean, std)\n",
    "\n",
    "z_score1 = find_theta_score(testData1, 2)\n",
    "z_score2 = find_theta_score(testData2, 2)"
   ]
  },
  {
   "cell_type": "code",
   "execution_count": 6,
   "metadata": {
    "scrolled": false
   },
   "outputs": [
    {
     "data": {
      "image/png": "[encoded data removed]",
      "text/plain": [
       "<matplotlib.figure.Figure at 0x2986d8d1cc0>"
      ]
     },
     "metadata": {},
     "output_type": "display_data"
    }
   ],
   "source": [
    "plt.scatter(z_score1[:, 0], z_score1[:, 1], color='b')\n",
    "plt.scatter(z_score2[:, 0], z_score2[:, 1], color='r')\n",
    "\n",
    "plt.legend(['Normal data', 'Abnormal data'])\n",
    "plt.show()"
   ]
  },
  {
   "cell_type": "code",
   "execution_count": 7,
   "metadata": {},
   "outputs": [
    {
     "data": {
      "image/png": "[encoded data removed]",
      "text/plain": [
       "<matplotlib.figure.Figure at 0x2986eb6ff60>"
      ]
     },
     "metadata": {},
     "output_type": "display_data"
    }
   ],
   "source": [
    "from sklearn import cluster\n",
    "\n",
    "z = np.concatenate([z_score1, z_score2])\n",
    "spectral = cluster.SpectralClustering(n_clusters=2, eigen_solver='arpack', affinity='nearest_neighbors')\n",
    "spectral.fit(z)\n",
    "\n",
    "colors = ['r', 'b']\n",
    "y_pred = spectral.labels_.astype(np.int)\n",
    "\n",
    "for i, x in enumerate(z):\n",
    "  c = 'r' if y_pred[i] else 'b'\n",
    "  plt.scatter(x[0], x[1], color=c)\n",
    "  \n",
    "plt.show()"
   ]
  },
  {
   "cell_type": "code",
   "execution_count": 8,
   "metadata": {},
   "outputs": [
    {
     "data": {
      "image/png": "[encoded data removed]",
      "text/plain": [
       "<matplotlib.figure.Figure at 0x2986fd392b0>"
      ]
     },
     "metadata": {},
     "output_type": "display_data"
    }
   ],
   "source": [
    "average_linkage = cluster.AgglomerativeClustering(linkage=\"average\", affinity=\"cityblock\", n_clusters=2)\n",
    "average_linkage.fit(np.concatenate([testData1, testData2]))\n",
    "average_linkage.labels_\n",
    "\n",
    "\n",
    "colors = ['r', 'b']\n",
    "y_pred = average_linkage.labels_.astype(np.int)\n",
    "\n",
    "for i, x in enumerate(z):\n",
    "  c = 'r' if y_pred[i] else 'b'\n",
    "  plt.scatter(x[0], x[1], color=c)\n",
    "  \n",
    "plt.show()"
   ]
  },
  {
   "cell_type": "code",
   "execution_count": 9,
   "metadata": {},
   "outputs": [
    {
     "data": {
      "text/plain": [
       "136"
      ]
     },
     "execution_count": 9,
     "metadata": {},
     "output_type": "execute_result"
    }
   ],
   "source": [
    "len(z_score2)"
   ]
  },
  {
   "cell_type": "code",
   "execution_count": 23,
   "metadata": {},
   "outputs": [
    {
     "data": {
      "image/png": "[encoded data removed]",
      "text/plain": [
       "<matplotlib.figure.Figure at 0x29870b18f98>"
      ]
     },
     "metadata": {},
     "output_type": "display_data"
    }
   ],
   "source": [
    "from pyod.models.knn import KNN\n",
    "\n",
    "clf = KNN()\n",
    "clf.fit(z_score1)\n",
    "\n",
    "scores = clf.decision_scores_\n",
    "test_scores = clf.decision_function(z_score2)\n",
    "\n",
    "thres = scores.mean()+3*scores.std()\n",
    "\n",
    "colors = ['r', 'b']\n",
    "y_pred = average_linkage.labels_.astype(np.int)\n",
    "\n",
    "for i, x in enumerate(z_score1):\n",
    "  c = 'r' if scores[i] > thres else 'b'\n",
    "  plt.scatter(x[0], x[1], color=c)\n",
    "  \n",
    "for i, x in enumerate(z_score2):\n",
    "  c = 'r' if test_scores[i] > thres else 'b'\n",
    "  plt.scatter(x[0], x[1], color=c)\n",
    "  \n",
    "plt.show()"
   ]
  },
  {
   "cell_type": "code",
   "execution_count": 24,
   "metadata": {},
   "outputs": [
    {
     "data": {
      "text/plain": [
       "array([ 0.61969319,  0.2954852 ,  0.41367858,  0.34352692,  0.49142271,\n",
       "        0.40788164,  0.29509382,  0.22016131,  0.28857549,  4.26982771,\n",
       "        3.13579221,  0.83839784,  1.3246117 ,  0.97586228,  0.57481291,\n",
       "        0.88211449,  0.33402193,  1.11912757,  1.59405978,  1.27346432,\n",
       "        1.05862863,  0.42728026,  0.37062649,  0.396667  ,  0.47106465,\n",
       "        0.55766042,  0.55316509,  0.99168838,  1.42928973,  1.46395191,\n",
       "        1.11113892,  0.59862859,  0.4298496 ,  0.4537931 ,  0.46052029,\n",
       "        0.50384646,  0.51967602,  0.35967339,  0.35667566,  0.48574741,\n",
       "        0.70505075,  0.83584517,  0.69130804,  0.51236172,  0.41741408,\n",
       "        0.33444845,  0.43951685,  0.43951685,  0.53557951,  0.63539559,\n",
       "        0.49762097,  0.45768591,  0.49200368,  0.4526342 ,  0.38993016,\n",
       "        0.77805516,  0.64940293,  0.47868527,  1.11448004,  1.24673281,\n",
       "        1.39934063,  1.44617511,  1.66471363,  1.84525526,  1.48700498,\n",
       "        1.35576686,  1.2977789 ,  0.71241997,  0.75998039,  0.70170579,\n",
       "        0.58434717,  0.66606096,  1.08788833,  0.63724639,  0.64139649,\n",
       "        0.90630582,  0.63724639,  0.96247908,  1.03128573,  1.68733801,\n",
       "        1.53665302,  1.14076903,  0.56703308,  0.86497337,  0.73474993,\n",
       "        0.80926026,  0.758513  ,  0.73474993,  0.49809199,  0.5059689 ,\n",
       "        0.61360258,  0.76586872,  0.56942797,  0.5635584 ,  0.4418041 ,\n",
       "        0.4418041 ,  0.57083839,  0.53176712,  0.37067869,  0.37067869,\n",
       "        0.37032407,  0.46125514,  0.56005666,  0.43494511,  0.47836788,\n",
       "        0.71927037,  0.34852132,  0.33992354,  0.31245234,  0.34882521,\n",
       "        0.27220885,  0.28240371,  0.34588398,  0.36124249,  0.48522517,\n",
       "        0.53173688,  0.53383806,  0.35301079,  0.44524506,  0.59346267,\n",
       "        0.55307313,  0.50857901,  0.40592188,  0.38272839,  0.5866498 ,\n",
       "        0.56754156,  0.48342155,  0.48575774,  0.6173055 ,  0.44645592,\n",
       "        0.48237231,  0.83093612,  0.81776018,  0.81882505,  0.49495985,\n",
       "        0.44671802,  1.00796063,  1.69391921,  0.85584063,  0.89728735,\n",
       "        1.30597441,  0.80307844,  0.55146413,  0.53358422,  1.14622556,\n",
       "        0.91024675,  0.25712428,  0.60426375,  1.02356565,  0.98853283,\n",
       "        1.09502148,  0.68306047,  0.4765534 ,  0.33530196,  0.64940293,\n",
       "        0.33823263,  0.2609495 ,  0.46938294,  0.66491653,  0.59266369,\n",
       "        0.44645592,  0.40802578,  0.46939894,  0.48626114,  0.48601712,\n",
       "        0.50979483,  0.86524817,  0.5667811 ,  0.45382679,  0.59266369,\n",
       "        0.63399865,  0.59900769,  0.60114235,  0.47088204,  0.31969239,\n",
       "        0.37981144,  0.40098376,  0.42741233,  0.44318653,  0.55457142,\n",
       "        0.48505337,  0.78778985,  0.62851311,  0.33688559,  0.22402998,\n",
       "        0.31969239,  0.38700187,  0.43280294,  0.56734492,  0.48430856,\n",
       "        0.67014018,  0.28259725,  0.36178037,  0.39600217,  0.29100056,\n",
       "        0.30686177,  0.33823263,  0.61395774,  0.58346947,  0.40989973,\n",
       "        0.47129206,  0.47868527,  0.75786412,  0.77427246,  0.78459921,\n",
       "        0.66128371,  0.8692918 ,  0.66261098,  0.80212918,  0.77804167,\n",
       "        0.81157664,  0.30307811,  0.39667724,  0.94870323,  0.84418289,\n",
       "        0.53643291,  0.28240371,  0.47788001,  0.58346947,  0.44785393,\n",
       "        0.62170553,  1.11047254,  1.09719289,  1.02453666,  0.88719769,\n",
       "        0.63114189,  0.81989141,  0.29184594,  0.49546113,  0.31253336,\n",
       "        0.36417767,  0.57955823,  0.24495638,  0.40490334,  0.48423673,\n",
       "        0.45750029,  0.51236172,  0.83453652,  1.18082284,  1.16184635,\n",
       "        1.48675928,  1.20781735,  1.32035566,  1.18082284,  0.94964866,\n",
       "        0.75769695,  0.50235136,  0.81675009,  0.82483636,  0.43459937,\n",
       "        0.65372058,  0.49083101,  0.5635584 ,  0.52381328,  0.38974642,\n",
       "        0.80503849,  0.48257749,  0.40083996,  0.53375105,  0.9845189 ,\n",
       "        1.64320907,  2.42300926,  2.16020518,  0.43556852,  0.41284368,\n",
       "        0.38183797,  0.53460807,  0.6594139 ,  0.49364324,  0.44524506,\n",
       "        4.73170794,  2.94311485,  5.39360189,  4.7249498 ,  5.61091198,\n",
       "        3.51806809,  4.7249498 ,  3.54173914,  1.43291177,  1.80502451,\n",
       "        1.31467071,  1.33570812,  1.33741124,  1.76616256,  1.73051054,\n",
       "        2.6317643 ,  1.5276647 ,  2.2926484 ,  1.21566076,  1.5099073 ,\n",
       "        1.33741124,  0.9924073 ,  1.19193338,  1.13426604,  1.29217465,\n",
       "        2.14383383,  0.65105208,  0.51011433,  0.39748404,  0.39539521,\n",
       "        0.16577756,  0.25728734,  0.26303296,  0.35316994,  0.2320354 ,\n",
       "        0.32967497,  0.48185317,  0.43006434,  0.2995788 ,  0.37608198,\n",
       "        0.46880782,  0.42894362,  0.43553446,  0.17820368,  0.42817658,\n",
       "        0.45888323,  0.35128735,  0.54749372,  0.47398703,  0.5061448 ,\n",
       "        0.8329471 ,  0.46817723,  0.5203332 ,  0.41045051,  0.52389266,\n",
       "        0.45461332,  0.64804695,  0.66848261,  0.4656273 ,  0.41045051,\n",
       "        0.57040822,  0.87633811,  0.71836771,  0.27039469,  0.16764952,\n",
       "        0.35350297,  0.5081017 ,  0.57112967,  0.5525746 ,  0.46796963,\n",
       "        0.50435108,  0.32967497,  0.3448925 ,  0.65262229,  0.54766073,\n",
       "        0.49789663,  0.34040976,  0.18713367,  0.23419611,  0.21405071,\n",
       "        0.28596393,  0.24031764,  0.26797173,  0.3651016 ,  0.25786858,\n",
       "        0.22149637,  0.25966805,  0.28451089,  0.33258664,  0.43273084,\n",
       "        0.43011799,  0.46428529,  0.27179525,  0.19954691,  0.4067373 ,\n",
       "        0.29431316,  0.25724549,  0.25801016,  0.27502506,  0.23277048,\n",
       "        0.26208196,  0.20286349,  0.20290635,  0.20026088,  0.3926384 ,\n",
       "        0.27179525,  0.2479313 ,  0.32334335,  0.22487333,  0.20286349,\n",
       "        0.23788092,  0.67564836,  0.7012727 ,  0.4767674 ,  0.59976158,\n",
       "        0.4856556 ,  0.34220112,  0.6282797 ,  0.64928975,  0.50365796,\n",
       "        0.51798088,  0.30259634,  0.47232977,  0.36172809,  0.31422303,\n",
       "        0.30415248,  0.36886229,  0.37306128,  0.43233781,  0.34662546,\n",
       "        0.57088954,  0.43203077,  0.49357378,  0.43203077,  0.45001231,\n",
       "        0.60557299,  0.60973024,  0.41913151,  0.56667452,  0.37668594,\n",
       "        0.4856556 ,  0.40661607,  1.09852921,  0.36870983,  0.2288963 ,\n",
       "        0.5525746 ,  0.74651985,  0.7096482 ,  2.14925027,  2.18367571,\n",
       "        1.0987849 ,  1.62763353,  0.72701124,  0.46817723,  0.7466284 ,\n",
       "        0.43553446,  0.5460227 ,  0.4152837 ,  0.16938704,  0.19944695,\n",
       "        0.43363079,  0.45880352,  0.44366058,  0.45688927,  0.45826972,\n",
       "        0.4429187 ,  0.35391318,  0.6269968 ,  0.51530871,  0.53949649,\n",
       "        0.35570757,  0.38105089,  0.37144828,  0.45752065,  0.55999519,\n",
       "        0.74808203,  0.62177301,  0.52186739,  0.28574216,  0.19844344,\n",
       "        0.21089486,  0.17341797,  0.15643845,  0.15287314,  0.15643845,\n",
       "        0.17341797,  0.41431864,  0.18152474,  0.38052757,  0.26093564,\n",
       "        0.3949624 ,  0.55999519,  0.21136746,  0.69304058,  0.55916291,\n",
       "        0.19406676,  0.27803081,  0.53378453,  0.51635143,  0.18179621,\n",
       "        0.36532933,  0.2837797 ,  0.2145888 ,  0.27687597,  0.41799024,\n",
       "        0.34779313,  0.27303507,  0.4392817 ,  0.8000132 ,  0.68404444,\n",
       "        0.45302033,  0.46881003,  0.41823138,  0.36675391,  0.36443936,\n",
       "        0.32064397,  0.40366812,  0.30776591,  0.52821067,  0.50441231,\n",
       "        0.67851379,  0.66246712,  0.50857901,  0.5095016 ,  0.66246712,\n",
       "        0.58299603,  0.43363159,  0.18447201,  0.36927321,  0.35967339,\n",
       "        0.45732376,  0.57330598,  0.55645132,  0.62127438,  0.28885575,\n",
       "        0.38867174,  0.16515221,  0.30951696,  0.29456166,  0.30951696,\n",
       "        0.3448925 ,  0.28885575,  0.22483871,  0.24934684,  0.3995691 ,\n",
       "        0.24924061,  0.35103437,  0.34116884,  0.2864224 ,  0.2145888 ,\n",
       "        0.25832459,  0.30708781,  0.26872938,  0.24578449,  0.54377665,\n",
       "        0.26678097,  0.28964723,  0.36563689,  0.92428459,  0.29509148,\n",
       "        0.4097289 ,  0.28920897,  0.56841004,  0.43415913,  0.42566063,\n",
       "        0.34727591,  0.50049271,  0.5684414 ,  0.47193754,  0.51451613,\n",
       "        0.6755144 ,  0.61979193,  0.47148524,  0.950867  ,  0.72577912,\n",
       "        0.69914941,  0.58458628,  0.38004954,  0.34972418,  0.25671611,\n",
       "        0.29384127,  0.337001  ,  0.24200291,  0.25058186,  0.76678066,\n",
       "        0.45016841,  0.3906262 ,  0.55824782,  0.34289671,  0.27603042,\n",
       "        1.08255148,  0.30462444,  0.69247427,  0.23017991,  0.27603042,\n",
       "        0.43997264,  0.31337216,  0.25058186,  0.2479313 ,  0.64079122,\n",
       "        0.56060618,  1.43516024,  3.87897738,  1.38599475,  1.04196298,\n",
       "        0.67602314,  0.63407437,  0.58993436,  0.27171487,  0.54974652,\n",
       "        0.30523576,  0.2387561 ,  0.2778331 ,  0.37840792,  0.4541236 ,\n",
       "        0.43042258,  0.57045926,  0.82309796,  0.50148088,  0.36722268,\n",
       "        0.42979232,  0.73040442,  0.15504116,  0.22736124,  0.55395946,\n",
       "        0.44714918,  0.25823124,  0.79414402,  0.45424005,  0.29592603,\n",
       "        0.52830929,  0.39924416,  0.35211845,  0.5214751 ,  0.38709445,\n",
       "        0.36645282,  0.41263233,  0.39140566,  0.38974642,  0.41128814,\n",
       "        0.38709445,  0.47239433,  0.56947476,  0.24134056,  0.21949662,\n",
       "        0.60585118,  0.5095016 ,  0.66418229,  0.79293115,  0.73514849,\n",
       "        0.45693743,  0.91592613,  0.73359304,  0.62783055,  0.39526518,\n",
       "        0.4562536 ,  0.50556699,  0.28932769,  0.31712643,  0.62892418,\n",
       "        0.19901051,  0.28176373,  0.4377408 ,  0.31315716,  0.34579976,\n",
       "        0.36877097,  0.40995343,  0.47477767,  0.4509841 ,  0.38579329,\n",
       "        0.32593109,  0.34716382,  0.4270471 ,  0.31908559,  0.35919287,\n",
       "        0.56987961,  0.41557369,  0.36443936,  0.40939523,  0.33808698,\n",
       "        0.18794391,  0.25696696,  0.44839329,  0.49178799,  0.36927321,\n",
       "        0.33665177,  0.34579976,  0.25055584,  0.18069688,  0.37459315,\n",
       "        0.36481367,  0.18794391,  0.61703325,  0.32217534,  0.37140536,\n",
       "        0.43979333,  0.61758933,  0.37140536,  0.34174234,  0.50883475,\n",
       "        0.393479  ,  0.49714035,  0.47019569,  0.35512947,  0.3206347 ,\n",
       "        0.38379025,  0.25887849,  0.2938746 ,  0.45916959,  0.4298496 ,\n",
       "        0.50384646,  0.60459706,  0.5431892 ,  0.84571994,  1.48633091,\n",
       "        2.12891843,  2.43605079,  1.69658745,  2.44735978,  1.11127278,\n",
       "        1.12838956,  1.40528897,  1.61568886])"
      ]
     },
     "execution_count": 24,
     "metadata": {},
     "output_type": "execute_result"
    }
   ],
   "source": [
    "scores"
   ]
  },
  {
   "cell_type": "code",
   "execution_count": null,
   "metadata": {
    "collapsed": true
   },
   "outputs": [],
   "source": []
  },
  {
   "cell_type": "code",
   "execution_count": null,
   "metadata": {
    "collapsed": true
   },
   "outputs": [],
   "source": []
  },
  {
   "cell_type": "code",
   "execution_count": null,
   "metadata": {
    "collapsed": true
   },
   "outputs": [],
   "source": []
  },
  {
   "cell_type": "code",
   "execution_count": null,
   "metadata": {
    "collapsed": true
   },
   "outputs": [],
   "source": []
  },
  {
   "cell_type": "code",
   "execution_count": null,
   "metadata": {
    "collapsed": true
   },
   "outputs": [],
   "source": []
  }
 ],
 "metadata": {
  "kernelspec": {
   "display_name": "Python 3",
   "language": "python",
   "name": "python3"
  },
  "language_info": {
   "codemirror_mode": {
    "name": "ipython",
    "version": 3
   },
   "file_extension": ".py",
   "mimetype": "text/x-python",
   "name": "python",
   "nbconvert_exporter": "python",
   "pygments_lexer": "ipython3",
   "version": "3.6.2"
  }
 },
 "nbformat": 4,
 "nbformat_minor": 2
}
