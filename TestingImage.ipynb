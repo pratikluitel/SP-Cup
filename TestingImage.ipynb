{
 "cells": [
  {
   "cell_type": "code",
   "execution_count": 80,
   "metadata": {},
   "outputs": [],
   "source": [
    "import pandas as pd\n",
    "import cv2\n",
    "import matplotlib\n",
    "matplotlib.use('Qt4Agg', force=True)\n",
    "import matplotlib.pyplot as plt\n",
    "import matplotlib.animation as animation\n",
    "import numpy as np\n",
    "import skimage.measure"
   ]
  },
  {
   "cell_type": "code",
   "execution_count": 82,
   "metadata": {},
   "outputs": [],
   "source": [
    "#for images\n",
    "image = pd.concat([pd.read_csv('DroneData/SP Cup 2020/03_Dataset with 5 normal experiments_17Jan2020/2020-01-17-11-32-12/_slash_pylon_camera_node_slash_image_raw.csv'),\n",
    "                                         pd.read_csv('DroneData/SP Cup 2020/03_Dataset with 5 normal experiments_17Jan2020/2020-01-17-11-32-49/_slash_pylon_camera_node_slash_image_raw.csv'),\n",
    "                                          pd.read_csv('DroneData/SP Cup 2020/03_Dataset with 5 normal experiments_17Jan2020/2020-01-17-11-33-26/_slash_pylon_camera_node_slash_image_raw.csv'),\n",
    "                                          pd.read_csv('DroneData/SP Cup 2020/03_Dataset with 5 normal experiments_17Jan2020/2020-01-17-11-34-08/_slash_pylon_camera_node_slash_image_raw.csv'),\n",
    "                                          pd.read_csv('DroneData/SP Cup 2020/03_Dataset with 5 normal experiments_17Jan2020/2020-01-17-11-34-43/_slash_pylon_camera_node_slash_image_raw.csv')],ignore_index=True)\n",
    "\n",
    "#image = pd.read_csv('./DroneData/SP Cup 2020/04_Dataset with 5 abnormal experiments_17Jan2020/2020-01-17-11-37-25/_slash_pylon_camera_node_slash_image_raw.csv')\n",
    "#image = pd.read_csv('DroneData/SP Cup 2020/02_Initial data set for abnormalities training_2 Dec 2019/IMU_camera_Initial data set for abnormalities training_2 Dec 2019/_slash_pylon_camera_node_slash_image_raw.csv')"
   ]
  },
  {
   "cell_type": "code",
   "execution_count": 86,
   "metadata": {},
   "outputs": [],
   "source": [
    "#function definitions\n",
    "def extract_image(image):\n",
    "    \"\"\"\n",
    "    extracts image data from the unprocessed raw image dataframe\n",
    "    \"\"\"\n",
    "    preimg = image.split(', ')\n",
    "    preimg[0] = preimg[0].replace('[','')\n",
    "    preimg[-1] = preimg[-1].replace(']','')\n",
    "    img  = [int(i) for i in preimg]\n",
    "    return np.array(img).reshape(1536,2048)\n",
    "\n",
    "\n",
    "\n",
    "def preprocess_image(image1, image2, kernal_func, kernal_size):\n",
    "    \"\"\"\n",
    "    find difference of current and preceeding frame, pool according to \n",
    "    kernal function and the kernel size, return the processed image\n",
    "    \"\"\"\n",
    "    a = cv2.cvtColor(np.uint8(extract_image(image1)),cv2.COLOR_BayerBG2GRAY)\n",
    "    b = cv2.cvtColor(np.uint8(extract_image(image2)),cv2.COLOR_BayerBG2GRAY)\n",
    "    dif = cv2.absdiff(skimage.measure.block_reduce(a, kernal_size, kernal_func),\n",
    "                      skimage.measure.block_reduce(b, kernal_size, kernal_func))          \n",
    "    return dif\n",
    "\n",
    "def updateim(*args): \n",
    "    \"\"\"\n",
    "    update frame variant2: for difference between two bayer compressed images\n",
    "    \"\"\"\n",
    "    global frameb\n",
    "    ax1.title.set_text('delta')\n",
    "    rgbImage = preprocess_image(image['data'][frameb-1],image['data'][frameb],np.max , (20,20))\n",
    "    im.set_array(rgbImage)\n",
    "    avg = np.average(rgbImage)\n",
    "    ax4.title.set_text('delta score: '+str(int(100*avg)/100.0))\n",
    "    arrx = np.linspace(frameb, 1000, len(image['data']))\n",
    "    print(frameb)\n",
    "    arry = arrx\n",
    "    imv.set_data(arrx, arry)\n",
    "    frameb+= 1\n",
    "    return im, imv,\n",
    "\n",
    "def update(*args):  \n",
    "    \"\"\"\n",
    "    update frame variant1: for default bayer compressed image\n",
    "    \"\"\"\n",
    "    global framea\n",
    "    ax2.title.set_text('Image '+str(framea-1))\n",
    "    imo.set_array(cv2.cvtColor(np.uint8(extract_image(image['data'][framea-1])), cv2.COLOR_BayerBG2RGB))\n",
    "    ax3.title.set_text('Image'+str(framea))\n",
    "    imp.set_array(cv2.cvtColor(np.uint8(extract_image(image['data'][framea])), cv2.COLOR_BayerBG2RGB))\n",
    "    framea+= 1\n",
    "    return imo,imp,\n",
    "\n",
    "\n"
   ]
  },
  {
   "cell_type": "code",
   "execution_count": 9,
   "metadata": {},
   "outputs": [
    {
     "data": {
      "text/plain": [
       "<matplotlib.image.AxesImage at 0x7fc141378250>"
      ]
     },
     "execution_count": 9,
     "metadata": {},
     "output_type": "execute_result"
    }
   ],
   "source": [
    "#plot image and difference for index 1 and 10\n",
    "ik = preprocess_image(image['data'][0],image['data'][10], np.max,(1,1))\n",
    "plt.figure(figsize = [20,8])\n",
    "plt.subplot(1,3,1).title.set_text('image 1')\n",
    "plt.imshow(cv2.cvtColor(np.uint8(extract_image(image['data'][0])),cv2.COLOR_BayerBG2RGB),origin='lower')\n",
    "\n",
    "plt.subplot(1,3,2).title.set_text('image 10')\n",
    "plt.imshow(cv2.cvtColor(np.uint8(extract_image(image['data'][10])),cv2.COLOR_BayerBG2RGB),origin='lower')\n",
    "\n",
    "plt.subplot(1,3,3).title.set_text('diff')\n",
    "plt.imshow(ik, origin='lower', cmap = plt.cm.gray)"
   ]
  },
  {
   "cell_type": "code",
   "execution_count": 87,
   "metadata": {},
   "outputs": [
    {
     "name": "stdout",
     "output_type": "stream",
     "text": [
      "1\n",
      "2\n",
      "3\n",
      "4\n",
      "5\n",
      "6\n",
      "7\n",
      "8\n",
      "9\n",
      "10\n",
      "11\n",
      "12\n",
      "13\n",
      "14\n",
      "15\n",
      "16\n",
      "17\n",
      "18\n",
      "19\n",
      "20\n",
      "21\n"
     ]
    }
   ],
   "source": [
    "framea = 2\n",
    "frameb = 1\n",
    "fig = plt.figure(figsize=(8, 12))\n",
    "ax1 = plt.subplot(2,2,3)\n",
    "x = np.uint8(255*np.ones(np.shape(preprocess_image(image['data'][3], image['data'][4], np.max, (20,20)))))\n",
    "x[0] = 0\n",
    "im = plt.imshow(x, origin='lower',cmap = plt.cm.gray)\n",
    "ax2 = plt.subplot(2,2,2)\n",
    "imo = plt.imshow(cv2.cvtColor(np.uint8(extract_image(image['data'][0])),\n",
    "                              cv2.COLOR_BayerBG2RGB), origin='lower')\n",
    "ax3 = plt.subplot(2,2,1)\n",
    "imp = plt.imshow(cv2.cvtColor(np.uint8(extract_image(image['data'][1])),\n",
    "                              cv2.COLOR_BayerBG2RGB), origin='lower')\n",
    "\n",
    "arrx = []\n",
    "arry = []\n",
    "ax4 = plt.subplot(2,2,4)\n",
    "ax4.set_ylim([0, 150])\n",
    "imv, = ax4.plot([], [])\n",
    "ani = animation.FuncAnimation(fig, updateim, interval=1)\n",
    "anio = animation.FuncAnimation(fig, update, interval=1)\n",
    "plt.show()"
   ]
  },
  {
   "cell_type": "code",
   "execution_count": 71,
   "metadata": {},
   "outputs": [
    {
     "ename": "NameError",
     "evalue": "name 'ik' is not defined",
     "output_type": "error",
     "traceback": [
      "\u001b[0;31m---------------------------------------------------------------------------\u001b[0m",
      "\u001b[0;31mNameError\u001b[0m                                 Traceback (most recent call last)",
      "\u001b[0;32m<ipython-input-71-a4ce980de88c>\u001b[0m in \u001b[0;36m<module>\u001b[0;34m\u001b[0m\n\u001b[0;32m----> 1\u001b[0;31m \u001b[0mplt\u001b[0m\u001b[0;34m.\u001b[0m\u001b[0mimshow\u001b[0m\u001b[0;34m(\u001b[0m\u001b[0mik\u001b[0m\u001b[0;34m,\u001b[0m\u001b[0morigin\u001b[0m \u001b[0;34m=\u001b[0m \u001b[0;34m'lower'\u001b[0m\u001b[0;34m,\u001b[0m\u001b[0mcmap\u001b[0m \u001b[0;34m=\u001b[0m \u001b[0mplt\u001b[0m\u001b[0;34m.\u001b[0m\u001b[0mcm\u001b[0m\u001b[0;34m.\u001b[0m\u001b[0mgray\u001b[0m\u001b[0;34m)\u001b[0m\u001b[0;34m\u001b[0m\u001b[0;34m\u001b[0m\u001b[0m\n\u001b[0m",
      "\u001b[0;31mNameError\u001b[0m: name 'ik' is not defined"
     ]
    },
    {
     "name": "stdout",
     "output_type": "stream",
     "text": [
      "Line2D(_line0)\n",
      "Line2D(_line0)\n",
      "Line2D(_line0)\n",
      "Line2D(_line0)\n",
      "Line2D(_line0)\n",
      "Line2D(_line0)\n",
      "Line2D(_line0)\n",
      "Line2D(_line0)\n"
     ]
    }
   ],
   "source": [
    "plt.imshow(ik,origin = 'lower',cmap = plt.cm.gray)"
   ]
  },
  {
   "cell_type": "code",
   "execution_count": null,
   "metadata": {},
   "outputs": [],
   "source": []
  },
  {
   "cell_type": "code",
   "execution_count": null,
   "metadata": {},
   "outputs": [],
   "source": []
  },
  {
   "cell_type": "code",
   "execution_count": null,
   "metadata": {},
   "outputs": [],
   "source": []
  }
 ],
 "metadata": {
  "kernelspec": {
   "display_name": "Python 3",
   "language": "python",
   "name": "python3"
  },
  "language_info": {
   "codemirror_mode": {
    "name": "ipython",
    "version": 3
   },
   "file_extension": ".py",
   "mimetype": "text/x-python",
   "name": "python",
   "nbconvert_exporter": "python",
   "pygments_lexer": "ipython3",
   "version": "3.7.1"
  }
 },
 "nbformat": 4,
 "nbformat_minor": 2
}
