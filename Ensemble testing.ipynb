{
 "cells": [
  {
   "cell_type": "markdown",
   "metadata": {},
   "source": [
    "# Testing Ensembles\n",
    "\n",
    "Currently based on KNN"
   ]
  },
  {
   "cell_type": "code",
   "execution_count": 1,
   "metadata": {
    "collapsed": true
   },
   "outputs": [],
   "source": [
    "import matplotlib.pyplot as plt\n",
    "from matplotlib import animation\n",
    "import random\n",
    "import pandas as pd\n",
    "import numpy as np\n",
    "from sklearn.decomposition import PCA\n",
    "from pyod.models.knn import KNN\n",
    "\n",
    "%matplotlib inline"
   ]
  },
  {
   "cell_type": "code",
   "execution_count": 2,
   "metadata": {
    "collapsed": true
   },
   "outputs": [],
   "source": [
    "#import new test data here\n",
    "droneData = pd.read_csv('./DroneData/SP Cup 2020/IMU_camera Drone Synchronized training dataset_normal behabiour_no abnormalities/_slash_mavros_slash_imu_slash_data.csv')"
   ]
  },
  {
   "cell_type": "code",
   "execution_count": 3,
   "metadata": {
    "collapsed": true
   },
   "outputs": [],
   "source": [
    "def extract_normalization_params(DroneData, params = ['x','y','z','x.1','y.1','z.1','x.2','y.2','z.2']):\n",
    "    \"\"\"\n",
    "    Extracts only the normal distribution z scores \n",
    "    of from the data\n",
    "    input = Data, parameters\n",
    "    \"\"\"\n",
    "    imuParamsData = DroneData.loc[:, params]\n",
    "    normImuData = (imuParamsData - imuParamsData.mean())/imuParamsData.std()\n",
    "    return normImuData, imuParamsData.mean(), imuParamsData.std()\n",
    "\n",
    "def normalize_test_data(Data, mean, std, params = ['x','y','z','x.1','y.1','z.1','x.2','y.2','z.2']):\n",
    "    imuParamsData = Data.loc[:, params]\n",
    "    normImuData = (imuParamsData - mean)/std\n",
    "    return normImuData\n",
    "\n",
    "def find_theta_score(Data,dims=1):\n",
    "    pca = PCA(n_components=2)\n",
    "    pca.fit(Data[['x','y','z','x.1','y.1','z.1','x.2','y.2','z.2']])\n",
    "    theta = pca.transform(Data[['x','y','z','x.1','y.1','z.1','x.2','y.2','z.2']])\n",
    "\n",
    "    return theta\n",
    "\n",
    "def plot_anomalies_in_1D(z_score, anomalyPrediction):\n",
    "    \"\"\"\n",
    "    plots anomalies (red) and 1D z score of the dataset\n",
    "    \"\"\"\n",
    "    for i in range(len(z_score)):\n",
    "        if anomalyPrediction[i] == True:\n",
    "            plt.scatter(i,z_score[i],c = 'r')\n",
    "    plt.plot(z_score)\n",
    "\n",
    "def plot_anomalies_in_2D(z2_score, anomalyPrediction):\n",
    "    \"\"\"\n",
    "    plots z1 and z2 as a scatter plot on x and y axes respectively,\n",
    "    with anomalies as red points and normal instances as blue\n",
    "    \"\"\"\n",
    "    anom = []\n",
    "    noanom = []\n",
    "    for i in range(len(z2_score.T)):\n",
    "        if anomalyPrediction[i]:\n",
    "            anom.append([z2_score[0][i],z2_score[1][i]])\n",
    "        else:\n",
    "            noanom.append([z2_score[0][i],z2_score[1][i]])\n",
    "    noanom = np.array(noanom).T\n",
    "    anom = np.array(anom).T\n",
    "    plt.scatter(noanom[0],noanom[1] ,c = 'b',label = 'Normal Instance')\n",
    "    plt.scatter(anom[0],anom[1],c = 'r',label = 'Anomaly')\n",
    "    plt.legend()\n",
    "            \n",
    "def generate_metrics(anomalyPrediction,testDataLabel):\n",
    "    \"\"\"\n",
    "    generates accuracy and detection rate metrics, takes\n",
    "    into input the prediction and the label column of the data\n",
    "    lengths of the two vectors must match\n",
    "    \"\"\"\n",
    "    actual_value = testDataLabel == 4\n",
    "    #how many readings match\n",
    "    N_set = anomalyPrediction == actual_value\n",
    "    \n",
    "    accuracy = sum(N_set)/len(testDataLabel)\n",
    "    detection_rate = sum(anomalyPrediction)/sum(actual_value)\n",
    "    false_positives = sum(np.logical_and((np.invert(actual_value)), anomalyPrediction))/len(testDataLabel)\n",
    "    false_negatives = sum(np.logical_and(actual_value, np.invert(anomalyPrediction)))/len(testDataLabel)\n",
    "    print('accuracy = ', accuracy,',detection rate =', detection_rate,'\\nfalse positive rate = '\n",
    "          ,false_positives,',false negative rate =',false_negatives)"
   ]
  },
  {
   "cell_type": "code",
   "execution_count": 6,
   "metadata": {
    "collapsed": true
   },
   "outputs": [],
   "source": [
    "#fit mean and std for normalization\n",
    "\n",
    "normImuData, mean, std = extract_normalization_params(droneData)\n",
    "trainData = normImuData"
   ]
  },
  {
   "cell_type": "code",
   "execution_count": 7,
   "metadata": {
    "collapsed": true
   },
   "outputs": [],
   "source": [
    "testData1 = normalize_test_data(pd.concat([pd.read_csv('DroneData/SP Cup 2020/03_Dataset with 5 normal experiments_17Jan2020/2020-01-17-11-32-12/_slash_mavros_slash_imu_slash_data.csv'),\n",
    "                                         pd.read_csv('DroneData/SP Cup 2020/03_Dataset with 5 normal experiments_17Jan2020/2020-01-17-11-32-49/_slash_mavros_slash_imu_slash_data.csv'),\n",
    "                                          pd.read_csv('DroneData/SP Cup 2020/03_Dataset with 5 normal experiments_17Jan2020/2020-01-17-11-33-26/_slash_mavros_slash_imu_slash_data.csv'),\n",
    "                                          pd.read_csv('DroneData/SP Cup 2020/03_Dataset with 5 normal experiments_17Jan2020/2020-01-17-11-34-08/_slash_mavros_slash_imu_slash_data.csv'),\n",
    "                                          pd.read_csv('DroneData/SP Cup 2020/03_Dataset with 5 normal experiments_17Jan2020/2020-01-17-11-34-43/_slash_mavros_slash_imu_slash_data.csv')]), mean, std)\n",
    "\n",
    "testData2 = normalize_test_data(pd.read_csv('DroneData/SP Cup 2020/04_Dataset with 5 abnormal experiments_17Jan2020/2020-01-17-11-37-25/_slash_mavros_slash_imu_slash_data.csv'), mean, std)\n",
    "\n",
    "z_score0 = find_theta_score(trainData)\n",
    "z_score1 = find_theta_score(testData1)\n",
    "z_score2 = find_theta_score(testData2)"
   ]
  },
  {
   "cell_type": "code",
   "execution_count": 39,
   "metadata": {},
   "outputs": [],
   "source": [
    "#using KNN\n",
    "from pyod.models.knn import KNN\n",
    "\n",
    "def KNN_detect(trainz=z_score0, testz1=z_score1, testz2=z_score2):\n",
    "    params = ['x','y','z','w','x.1','y.1','z.1','x.2','y.2','z.2']\n",
    "    #fit model\n",
    "    lof = KNN()\n",
    "\n",
    "    z = trainz\n",
    "    z2_score = np.concatenate([z_score1, z_score2])\n",
    "    \n",
    "    lof.fit(z)\n",
    "    scores = lof.decision_scores_\n",
    "    test_scores1 = lof.decision_function(testz1)\n",
    "    test_scores2 = lof.decision_function(testz2)\n",
    "\n",
    "    thres = scores.mean()+18*scores.std()\n",
    "    anomalyPredictionLOF = test_scores1 > thres\n",
    "    anomalyPredictionLOF1 = test_scores2 > thres\n",
    "#     plt.figure(figsize = (12,20))\n",
    "#     ax1 = plt.subplot(3,1,1)\n",
    "#     ax1.title.set_text('K Nearest Neighbors (KNN)\\nOn Test Data - Normal')\n",
    "#     ax1.set_xlabel('Instance')\n",
    "#     ax1.set_ylabel('1D Principal Component')\n",
    "#     plot_anomalies_in_1D(testz1.T[0], anomalyPredictionLOF)\n",
    "#     ax2 = plt.subplot(3,1,2)\n",
    "#     ax2.title.set_text('Test Data - Anomalous')\n",
    "#     ax2.set_xlabel('Instance')\n",
    "#     ax2.set_ylabel('1D Principal Component')\n",
    "#     plot_anomalies_in_1D(testz2.T[0], anomalyPredictionLOF1)\n",
    "#     ax3 = plt.subplot(3,1,3)\n",
    "#     ax3.set_xlabel('Principal Component 1')\n",
    "#     ax3.set_ylabel('Principal Component 2')\n",
    "#     plot_anomalies_in_2D(z2_score.T, np.concatenate([anomalyPredictionLOF,anomalyPredictionLOF1]))\n",
    "#     print(sum(anomalyPredictionLOF))\n",
    "#     print(len(anomalyPredictionLOF1)-sum(anomalyPredictionLOF1))\n",
    "    return sum(anomalyPredictionLOF), (len(anomalyPredictionLOF1)-sum(anomalyPredictionLOF1))"
   ]
  },
  {
   "cell_type": "code",
   "execution_count": 65,
   "metadata": {},
   "outputs": [],
   "source": [
    "# Using different values of k\n",
    "\n",
    "n_clf = 30\n",
    "k_list = np.arange(5, 5*n_clf+1, 5)\n",
    "\n",
    "# z = z_score0\n",
    "# z2_score = np.concatenate([z_score1, z_score2])\n",
    "\n",
    "train_scores = np.zeros([z_score0.shape[0], n_clf])\n",
    "test_scores0 = np.zeros([z_score1.shape[0], n_clf])\n",
    "test_scores1 = np.zeros([z_score2.shape[0], n_clf])\n",
    "\n",
    "anomalyPredictionLOF0 = np.zeros(test_scores0.shape)\n",
    "anomalyPredictionLOF1 = np.zeros(test_scores1.shape)\n",
    "\n",
    "fp = np.zeros(n_clf)\n",
    "fn = np.zeros(n_clf)\n",
    "\n",
    "for i in range(n_clf):\n",
    "    k = k_list[i]\n",
    "    clf = KNN(n_neighbors=k)\n",
    "    clf.fit(z_score0)\n",
    "    train_scores[:, i] = clf.decision_scores_\n",
    "    test_scores0[:, i] = clf.decision_function(z_score1)\n",
    "    test_scores1[:, i] = clf.decision_function(z_score2)\n",
    "    \n",
    "    thres = train_scores[:, i].mean()+18*train_scores[:, i].std()\n",
    "    anomalyPredictionLOF0[:, i] = test_scores0[:, i] > thres\n",
    "    anomalyPredictionLOF1[:, i] = test_scores1[:, i] > thres\n",
    "    \n",
    "    fp[i] = sum(anomalyPredictionLOF0[:, i])\n",
    "    fn[i] = len(anomalyPredictionLOF1[:, i])-sum(anomalyPredictionLOF1[:, i])"
   ]
  },
  {
   "cell_type": "code",
   "execution_count": 70,
   "metadata": {},
   "outputs": [
    {
     "data": {
      "image/png": "[encoded data removed]",
      "text/plain": [
       "<matplotlib.figure.Figure at 0x25d68ef4588>"
      ]
     },
     "metadata": {},
     "output_type": "display_data"
    }
   ],
   "source": [
    "plt.plot(k_list, fp)\n",
    "plt.plot(k_list, fn)\n",
    "plt.xlabel('Value of K')\n",
    "plt.ylabel('Number of false instances')\n",
    "plt.legend(['False positives', 'False negatives'])\n",
    "plt.show()"
   ]
  }
 ],
 "metadata": {
  "kernelspec": {
   "display_name": "Python 3",
   "language": "python",
   "name": "python3"
  },
  "language_info": {
   "codemirror_mode": {
    "name": "ipython",
    "version": 3
   },
   "file_extension": ".py",
   "mimetype": "text/x-python",
   "name": "python",
   "nbconvert_exporter": "python",
   "pygments_lexer": "ipython3",
   "version": "3.6.2"
  }
 },
 "nbformat": 4,
 "nbformat_minor": 2
}
